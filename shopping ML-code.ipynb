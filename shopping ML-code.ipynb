{
 "cells": [
  {
   "cell_type": "markdown",
   "id": "6a664038",
   "metadata": {},
   "source": [
    "# <font color='#GREEN'> Examining Machine Learning Algorithms for user purchases from the site</font>"
   ]
  },
  {
   "cell_type": "markdown",
   "id": "8ea62b95",
   "metadata": {},
   "source": [
    "## <font color='limeSMALL'> Import Libraries\n",
    " </font>"
   ]
  },
  {
   "cell_type": "code",
   "execution_count": 25,
   "id": "1a1e322a",
   "metadata": {
    "scrolled": false
   },
   "outputs": [],
   "source": [
    "import pandas as pd\n",
    "import matplotlib.pyplot as plt\n",
    "from sklearn.model_selection import train_test_split\n",
    "from pandas.plotting import scatter_matrix\n",
    "import numpy as np\n",
    "from sklearn import metrics\n"
   ]
  },
  {
   "cell_type": "markdown",
   "id": "daa93a0d",
   "metadata": {},
   "source": [
    "## <font color='limeSMALL'> Load Data </font>"
   ]
  },
  {
   "cell_type": "code",
   "execution_count": 26,
   "id": "2253ddf3",
   "metadata": {},
   "outputs": [],
   "source": [
    "shopping = pd.read_csv('shopping.csv')"
   ]
  },
  {
   "cell_type": "markdown",
   "id": "0cf0faaf",
   "metadata": {},
   "source": [
    "#### Check the General information of the Data"
   ]
  },
  {
   "cell_type": "code",
   "execution_count": 27,
   "id": "3511aa29",
   "metadata": {},
   "outputs": [
    {
     "name": "stdout",
     "output_type": "stream",
     "text": [
      "<class 'pandas.core.frame.DataFrame'>\n",
      "RangeIndex: 12330 entries, 0 to 12329\n",
      "Data columns (total 18 columns):\n",
      " #   Column                   Non-Null Count  Dtype  \n",
      "---  ------                   --------------  -----  \n",
      " 0   Administrative           12330 non-null  int64  \n",
      " 1   Administrative_Duration  12330 non-null  float64\n",
      " 2   Informational            12330 non-null  int64  \n",
      " 3   Informational_Duration   12330 non-null  float64\n",
      " 4   ProductRelated           12330 non-null  int64  \n",
      " 5   ProductRelated_Duration  12330 non-null  float64\n",
      " 6   BounceRates              12330 non-null  float64\n",
      " 7   ExitRates                12330 non-null  float64\n",
      " 8   PageValues               12330 non-null  float64\n",
      " 9   SpecialDay               12330 non-null  float64\n",
      " 10  Month                    12330 non-null  object \n",
      " 11  OperatingSystems         12330 non-null  int64  \n",
      " 12  Browser                  12330 non-null  int64  \n",
      " 13  Region                   12330 non-null  int64  \n",
      " 14  TrafficType              12330 non-null  int64  \n",
      " 15  VisitorType              12330 non-null  object \n",
      " 16  Weekend                  12330 non-null  bool   \n",
      " 17  Revenue                  12330 non-null  bool   \n",
      "dtypes: bool(2), float64(7), int64(7), object(2)\n",
      "memory usage: 1.5+ MB\n"
     ]
    }
   ],
   "source": [
    "shopping.info()"
   ]
  },
  {
   "cell_type": "markdown",
   "id": "ad723e9e",
   "metadata": {},
   "source": [
    "#### Make Train Set and Test Set \n",
    " "
   ]
  },
  {
   "cell_type": "code",
   "execution_count": 30,
   "id": "5f5ebf90",
   "metadata": {},
   "outputs": [],
   "source": [
    "# Dictionary Mapping Months to Numerical values\n",
    "months = {'Jan': 0, 'Feb': 1, 'Mar': 2, 'Apr': 3, 'May': 4, 'June': 5, 'Jul': 6, 'Aug': 7, 'Sep': 8, 'Oct': 9, 'Nov': 10, 'Dec': 11,}\n",
    "\n",
    "# Mapping Visitor Types to integers\n",
    "visitors = {'Returning_Visitor': 1, 'New_Visitor': 0, 'Other': 0}\n",
    "\n",
    "# Mapping Boolean Strings to integers\n",
    "b = {'True': 1, 'False': 0}\n",
    "\n",
    "data.Month = data.Month.map(months)\n",
    "data.VisitorType = data.VisitorType.map(visitors)\n",
    "data.Weekend = data.Weekend.astype(int)\n",
    "data.Revenue = data.Revenue.astype(int)\n",
    "\n",
    "\n",
    "X = data[['Administrative','Administrative_Duration','Informational','Informational_Duration','ProductRelated','ProductRelated_Duration','BounceRates','ExitRates','PageValues','SpecialDay','Month','OperatingSystems','Browser','Region','TrafficType','VisitorType','Weekend']] \n",
    "y = data['Revenue']\n",
    "\n",
    "\n",
    "\n",
    "\n",
    "#splitting the dataset into training and testing sets \n",
    "X_train, X_test, y_train, y_test = train_test_split(X, y, test_size=0.2, random_state=0)\n"
   ]
  },
  {
   "cell_type": "markdown",
   "id": "6f71cef2",
   "metadata": {},
   "source": [
    "## <font color='limeSMALL'> Clear Data\n",
    "\n",
    " </font>"
   ]
  },
  {
   "cell_type": "markdown",
   "id": "205a58a8",
   "metadata": {},
   "source": [
    "### Feature Scaling (standardization)"
   ]
  },
  {
   "cell_type": "code",
   "execution_count": 31,
   "id": "2aadb495",
   "metadata": {},
   "outputs": [],
   "source": [
    "from sklearn.preprocessing import StandardScaler \n",
    "\n",
    "scaler = StandardScaler()   #instantiating the scaler object \n",
    "Xtrain = scaler.fit(X).transform(X) "
   ]
  },
  {
   "cell_type": "markdown",
   "id": "b6c34de3",
   "metadata": {},
   "source": [
    "## <font color='limeSMALL'> Implementation of Algorithms\n",
    "\n",
    "\n",
    " </font>"
   ]
  },
  {
   "cell_type": "code",
   "execution_count": 32,
   "id": "d8f4dc9d",
   "metadata": {},
   "outputs": [
    {
     "name": "stdout",
     "output_type": "stream",
     "text": [
      "RMSE =  0.3137761308373044\n",
      "DATA VALIDATION\n"
     ]
    },
    {
     "ename": "ValueError",
     "evalue": "Classification metrics can't handle a mix of binary and continuous targets",
     "output_type": "error",
     "traceback": [
      "\u001b[1;31m---------------------------------------------------------------------------\u001b[0m",
      "\u001b[1;31mValueError\u001b[0m                                Traceback (most recent call last)",
      "\u001b[1;32m~\\AppData\\Local\\Temp\\ipykernel_16304\\1976463274.py\u001b[0m in \u001b[0;36m<module>\u001b[1;34m\u001b[0m\n\u001b[0;32m     11\u001b[0m \u001b[0mlin_rmse\u001b[0m \u001b[1;33m=\u001b[0m \u001b[0mnp\u001b[0m\u001b[1;33m.\u001b[0m\u001b[0msqrt\u001b[0m\u001b[1;33m(\u001b[0m\u001b[0mlin_mse\u001b[0m\u001b[1;33m)\u001b[0m\u001b[1;33m\u001b[0m\u001b[1;33m\u001b[0m\u001b[0m\n\u001b[0;32m     12\u001b[0m \u001b[0mprint\u001b[0m\u001b[1;33m(\u001b[0m\u001b[1;34m\"RMSE = \"\u001b[0m\u001b[1;33m,\u001b[0m \u001b[0mlin_rmse\u001b[0m\u001b[1;33m)\u001b[0m\u001b[1;33m\u001b[0m\u001b[1;33m\u001b[0m\u001b[0m\n\u001b[1;32m---> 13\u001b[1;33m \u001b[0mprint\u001b[0m\u001b[1;33m(\u001b[0m\u001b[1;34m\"DATA VALIDATION\"\u001b[0m\u001b[1;33m)\u001b[0m\u001b[1;33m;\u001b[0m \u001b[0mprint\u001b[0m\u001b[1;33m(\u001b[0m\u001b[0mmetrics\u001b[0m\u001b[1;33m.\u001b[0m\u001b[0mclassification_report\u001b[0m\u001b[1;33m(\u001b[0m\u001b[0my\u001b[0m\u001b[1;33m,\u001b[0m \u001b[0mLR_predict\u001b[0m\u001b[1;33m)\u001b[0m\u001b[1;33m)\u001b[0m\u001b[1;33m\u001b[0m\u001b[1;33m\u001b[0m\u001b[0m\n\u001b[0m",
      "\u001b[1;32mC:\\ProgramData\\Anaconda3\\lib\\site-packages\\sklearn\\metrics\\_classification.py\u001b[0m in \u001b[0;36mclassification_report\u001b[1;34m(y_true, y_pred, labels, target_names, sample_weight, digits, output_dict, zero_division)\u001b[0m\n\u001b[0;32m   2108\u001b[0m     \"\"\"\n\u001b[0;32m   2109\u001b[0m \u001b[1;33m\u001b[0m\u001b[0m\n\u001b[1;32m-> 2110\u001b[1;33m     \u001b[0my_type\u001b[0m\u001b[1;33m,\u001b[0m \u001b[0my_true\u001b[0m\u001b[1;33m,\u001b[0m \u001b[0my_pred\u001b[0m \u001b[1;33m=\u001b[0m \u001b[0m_check_targets\u001b[0m\u001b[1;33m(\u001b[0m\u001b[0my_true\u001b[0m\u001b[1;33m,\u001b[0m \u001b[0my_pred\u001b[0m\u001b[1;33m)\u001b[0m\u001b[1;33m\u001b[0m\u001b[1;33m\u001b[0m\u001b[0m\n\u001b[0m\u001b[0;32m   2111\u001b[0m \u001b[1;33m\u001b[0m\u001b[0m\n\u001b[0;32m   2112\u001b[0m     \u001b[1;32mif\u001b[0m \u001b[0mlabels\u001b[0m \u001b[1;32mis\u001b[0m \u001b[1;32mNone\u001b[0m\u001b[1;33m:\u001b[0m\u001b[1;33m\u001b[0m\u001b[1;33m\u001b[0m\u001b[0m\n",
      "\u001b[1;32mC:\\ProgramData\\Anaconda3\\lib\\site-packages\\sklearn\\metrics\\_classification.py\u001b[0m in \u001b[0;36m_check_targets\u001b[1;34m(y_true, y_pred)\u001b[0m\n\u001b[0;32m     91\u001b[0m \u001b[1;33m\u001b[0m\u001b[0m\n\u001b[0;32m     92\u001b[0m     \u001b[1;32mif\u001b[0m \u001b[0mlen\u001b[0m\u001b[1;33m(\u001b[0m\u001b[0my_type\u001b[0m\u001b[1;33m)\u001b[0m \u001b[1;33m>\u001b[0m \u001b[1;36m1\u001b[0m\u001b[1;33m:\u001b[0m\u001b[1;33m\u001b[0m\u001b[1;33m\u001b[0m\u001b[0m\n\u001b[1;32m---> 93\u001b[1;33m         raise ValueError(\n\u001b[0m\u001b[0;32m     94\u001b[0m             \"Classification metrics can't handle a mix of {0} and {1} targets\".format(\n\u001b[0;32m     95\u001b[0m                 \u001b[0mtype_true\u001b[0m\u001b[1;33m,\u001b[0m \u001b[0mtype_pred\u001b[0m\u001b[1;33m\u001b[0m\u001b[1;33m\u001b[0m\u001b[0m\n",
      "\u001b[1;31mValueError\u001b[0m: Classification metrics can't handle a mix of binary and continuous targets"
     ]
    }
   ],
   "source": [
    "from sklearn.linear_model import LinearRegression\n",
    "\n",
    "regressor = LinearRegression()\n",
    "regressor.fit(Xtrain,y)\n",
    "\n",
    "LR_predict = regressor.predict(scaler.transform(X))\n",
    "\n",
    "from sklearn.metrics import mean_squared_error\n",
    "\n",
    "lin_mse = mean_squared_error(y,LR_predict)\n",
    "lin_rmse = np.sqrt(lin_mse)\n",
    "print(\"RMSE = \", lin_rmse)\n",
    "print(\"DATA VALIDATION\"); print(metrics.classification_report(y, LR_predict))\n"
   ]
  },
  {
   "cell_type": "markdown",
   "id": "dc542a55",
   "metadata": {},
   "source": [
    "### k-Nearest Neighbours Classifier"
   ]
  },
  {
   "cell_type": "code",
   "execution_count": 33,
   "id": "016d49ad",
   "metadata": {
    "scrolled": true
   },
   "outputs": [
    {
     "name": "stderr",
     "output_type": "stream",
     "text": [
      "C:\\ProgramData\\Anaconda3\\lib\\site-packages\\sklearn\\neighbors\\_classification.py:228: FutureWarning: Unlike other reduction functions (e.g. `skew`, `kurtosis`), the default behavior of `mode` typically preserves the axis it acts along. In SciPy 1.11.0, this behavior will change: the default value of `keepdims` will become False, the `axis` over which the statistic is taken will be eliminated, and the value None will no longer be accepted. Set `keepdims` to True or False to avoid this warning.\n",
      "  mode, _ = stats.mode(_y[neigh_ind, k], axis=1)\n"
     ]
    },
    {
     "name": "stdout",
     "output_type": "stream",
     "text": [
      "RMSE =  0.3349514658204352\n",
      "DATA VALIDATION\n",
      "              precision    recall  f1-score   support\n",
      "\n",
      "           0       0.89      0.99      0.94      6193\n",
      "           1       0.84      0.38      0.53      1205\n",
      "\n",
      "    accuracy                           0.89      7398\n",
      "   macro avg       0.87      0.68      0.73      7398\n",
      "weighted avg       0.88      0.89      0.87      7398\n",
      "\n"
     ]
    }
   ],
   "source": [
    "from sklearn.neighbors import KNeighborsClassifier\n",
    "\n",
    "model = KNeighborsClassifier(n_neighbors = 8)\n",
    "model.fit(Xtrain,y)\n",
    "\n",
    "KNN_predict = model.predict(scaler.transform(X))\n",
    "\n",
    "from sklearn.metrics import mean_squared_error\n",
    "\n",
    "lin_mse = mean_squared_error(y , KNN_predict)\n",
    "lin_rmse = np.sqrt(lin_mse)\n",
    "print(\"RMSE = \", lin_rmse)\n",
    "print(\"DATA VALIDATION\"); print(metrics.classification_report(y, KNN_predict))\n"
   ]
  },
  {
   "cell_type": "markdown",
   "id": "7466ba76",
   "metadata": {},
   "source": [
    "### Decision Tree Classifier"
   ]
  },
  {
   "cell_type": "code",
   "execution_count": 36,
   "id": "39d1f69e",
   "metadata": {},
   "outputs": [
    {
     "ename": "ValueError",
     "evalue": "Number of labels=5918 does not match number of samples=7398",
     "output_type": "error",
     "traceback": [
      "\u001b[1;31m---------------------------------------------------------------------------\u001b[0m",
      "\u001b[1;31mValueError\u001b[0m                                Traceback (most recent call last)",
      "\u001b[1;32m~\\AppData\\Local\\Temp\\ipykernel_16304\\4271149891.py\u001b[0m in \u001b[0;36m<module>\u001b[1;34m\u001b[0m\n\u001b[0;32m      2\u001b[0m \u001b[1;33m\u001b[0m\u001b[0m\n\u001b[0;32m      3\u001b[0m \u001b[0mmodel_tree\u001b[0m \u001b[1;33m=\u001b[0m \u001b[0mDecisionTreeClassifier\u001b[0m\u001b[1;33m(\u001b[0m\u001b[1;33m)\u001b[0m\u001b[1;33m\u001b[0m\u001b[1;33m\u001b[0m\u001b[0m\n\u001b[1;32m----> 4\u001b[1;33m \u001b[0mmodel_tree\u001b[0m\u001b[1;33m.\u001b[0m\u001b[0mfit\u001b[0m\u001b[1;33m(\u001b[0m\u001b[0mXtrain\u001b[0m\u001b[1;33m,\u001b[0m\u001b[0my_train\u001b[0m\u001b[1;33m)\u001b[0m\u001b[1;33m\u001b[0m\u001b[1;33m\u001b[0m\u001b[0m\n\u001b[0m\u001b[0;32m      5\u001b[0m \u001b[1;33m\u001b[0m\u001b[0m\n\u001b[0;32m      6\u001b[0m \u001b[0mtree_predict\u001b[0m \u001b[1;33m=\u001b[0m \u001b[0mmodel_tree\u001b[0m\u001b[1;33m.\u001b[0m\u001b[0mpredict\u001b[0m\u001b[1;33m(\u001b[0m\u001b[0mscaler\u001b[0m\u001b[1;33m.\u001b[0m\u001b[0mtransform\u001b[0m\u001b[1;33m(\u001b[0m\u001b[0mX\u001b[0m\u001b[1;33m)\u001b[0m\u001b[1;33m)\u001b[0m\u001b[1;33m\u001b[0m\u001b[1;33m\u001b[0m\u001b[0m\n",
      "\u001b[1;32mC:\\ProgramData\\Anaconda3\\lib\\site-packages\\sklearn\\tree\\_classes.py\u001b[0m in \u001b[0;36mfit\u001b[1;34m(self, X, y, sample_weight, check_input, X_idx_sorted)\u001b[0m\n\u001b[0;32m    935\u001b[0m         \"\"\"\n\u001b[0;32m    936\u001b[0m \u001b[1;33m\u001b[0m\u001b[0m\n\u001b[1;32m--> 937\u001b[1;33m         super().fit(\n\u001b[0m\u001b[0;32m    938\u001b[0m             \u001b[0mX\u001b[0m\u001b[1;33m,\u001b[0m\u001b[1;33m\u001b[0m\u001b[1;33m\u001b[0m\u001b[0m\n\u001b[0;32m    939\u001b[0m             \u001b[0my\u001b[0m\u001b[1;33m,\u001b[0m\u001b[1;33m\u001b[0m\u001b[1;33m\u001b[0m\u001b[0m\n",
      "\u001b[1;32mC:\\ProgramData\\Anaconda3\\lib\\site-packages\\sklearn\\tree\\_classes.py\u001b[0m in \u001b[0;36mfit\u001b[1;34m(self, X, y, sample_weight, check_input, X_idx_sorted)\u001b[0m\n\u001b[0;32m    297\u001b[0m \u001b[1;33m\u001b[0m\u001b[0m\n\u001b[0;32m    298\u001b[0m         \u001b[1;32mif\u001b[0m \u001b[0mlen\u001b[0m\u001b[1;33m(\u001b[0m\u001b[0my\u001b[0m\u001b[1;33m)\u001b[0m \u001b[1;33m!=\u001b[0m \u001b[0mn_samples\u001b[0m\u001b[1;33m:\u001b[0m\u001b[1;33m\u001b[0m\u001b[1;33m\u001b[0m\u001b[0m\n\u001b[1;32m--> 299\u001b[1;33m             raise ValueError(\n\u001b[0m\u001b[0;32m    300\u001b[0m                 \u001b[1;34m\"Number of labels=%d does not match number of samples=%d\"\u001b[0m\u001b[1;33m\u001b[0m\u001b[1;33m\u001b[0m\u001b[0m\n\u001b[0;32m    301\u001b[0m                 \u001b[1;33m%\u001b[0m \u001b[1;33m(\u001b[0m\u001b[0mlen\u001b[0m\u001b[1;33m(\u001b[0m\u001b[0my\u001b[0m\u001b[1;33m)\u001b[0m\u001b[1;33m,\u001b[0m \u001b[0mn_samples\u001b[0m\u001b[1;33m)\u001b[0m\u001b[1;33m\u001b[0m\u001b[1;33m\u001b[0m\u001b[0m\n",
      "\u001b[1;31mValueError\u001b[0m: Number of labels=5918 does not match number of samples=7398"
     ]
    }
   ],
   "source": [
    "from sklearn.tree import DecisionTreeClassifier\n",
    "\n",
    "model_tree = DecisionTreeClassifier()\n",
    "model_tree.fit(Xtrain,y_train)\n",
    "\n",
    "tree_predict = model_tree.predict(scaler.transform(X))\n",
    "\n",
    "\n",
    "lin_mse = mean_squared_error(y , tree_predict)\n",
    "lin_rmse = np.sqrt(lin_mse)\n",
    "print(\"RMSE = \", lin_rmse)\n",
    "print(\"DATA VALIDATION\"); print(metrics.classification_report(y, tree_predict))\n"
   ]
  },
  {
   "cell_type": "markdown",
   "id": "60954544",
   "metadata": {},
   "source": [
    "### Random Forest Classifier"
   ]
  },
  {
   "cell_type": "code",
   "execution_count": 17,
   "id": "fd613aa5",
   "metadata": {},
   "outputs": [
    {
     "name": "stdout",
     "output_type": "stream",
     "text": [
      "RMSE =  0.31294068683908577\n",
      "DATA VALIDATION\n",
      "              precision    recall  f1-score   support\n",
      "\n",
      "           0       0.93      0.95      0.94      4229\n",
      "           1       0.68      0.58      0.63       703\n",
      "\n",
      "    accuracy                           0.90      4932\n",
      "   macro avg       0.81      0.77      0.79      4932\n",
      "weighted avg       0.90      0.90      0.90      4932\n",
      "\n"
     ]
    }
   ],
   "source": [
    "from sklearn.ensemble import RandomForestClassifier\n",
    "\n",
    "model_RandomForest = RandomForestClassifier()\n",
    "model_RandomForest.fit(train_set , train_set_label)\n",
    "\n",
    "Random_Forest_predict = model_RandomForest.predict(test_set)\n",
    "lin_mse = mean_squared_error(test_set_label , Random_Forest_predict)\n",
    "lin_rmse = np.sqrt(lin_mse)\n",
    "print(\"RMSE = \", lin_rmse)\n",
    "print(\"DATA VALIDATION\"); print(metrics.classification_report(test_set_label, Random_Forest_predict))\n"
   ]
  },
  {
   "cell_type": "markdown",
   "id": "585927eb",
   "metadata": {},
   "source": [
    "### MLP Classifier"
   ]
  },
  {
   "cell_type": "code",
   "execution_count": 18,
   "id": "cb18ebd5",
   "metadata": {},
   "outputs": [
    {
     "name": "stdout",
     "output_type": "stream",
     "text": [
      "RMSE =  0.347625475488254\n",
      "DATA VALIDATION\n",
      "              precision    recall  f1-score   support\n",
      "\n",
      "           0       0.93      0.92      0.93      4229\n",
      "           1       0.57      0.61      0.59       703\n",
      "\n",
      "    accuracy                           0.88      4932\n",
      "   macro avg       0.75      0.77      0.76      4932\n",
      "weighted avg       0.88      0.88      0.88      4932\n",
      "\n"
     ]
    }
   ],
   "source": [
    "from sklearn.neural_network import MLPClassifier\n",
    "\n",
    "model_MLP = MLPClassifier(max_iter=800)\n",
    "model_MLP.fit(train_set , train_set_label)\n",
    "\n",
    "MLP_predict = model_MLP.predict(test_set)\n",
    "lin_mse = mean_squared_error(test_set_label , MLP_predict)\n",
    "lin_rmse = np.sqrt(lin_mse)\n",
    "print(\"RMSE = \", lin_rmse)\n",
    "print(\"DATA VALIDATION\"); print(metrics.classification_report(test_set_label, MLP_predict))\n",
    "\n"
   ]
  },
  {
   "cell_type": "markdown",
   "id": "22fdb94e",
   "metadata": {},
   "source": [
    "### SVM Classifier"
   ]
  },
  {
   "cell_type": "code",
   "execution_count": 19,
   "id": "5e07dd58",
   "metadata": {},
   "outputs": [
    {
     "ename": "SyntaxError",
     "evalue": "EOF while scanning triple-quoted string literal (1344549345.py, line 12)",
     "output_type": "error",
     "traceback": [
      "\u001b[1;36m  File \u001b[1;32m\"C:\\Users\\aalihosseiny\\AppData\\Local\\Temp\\ipykernel_10728\\1344549345.py\"\u001b[1;36m, line \u001b[1;32m12\u001b[0m\n\u001b[1;33m    \u001b[0m\n\u001b[1;37m    ^\u001b[0m\n\u001b[1;31mSyntaxError\u001b[0m\u001b[1;31m:\u001b[0m EOF while scanning triple-quoted string literal\n"
     ]
    }
   ],
   "source": [
    "''''\n",
    "from sklearn import svm\n",
    "\n",
    "model_SVM = svm.SVC(kernel='linear',C=100,gamma='auto')\n",
    "model_SVM.fit(train_set , train_set_label)\n",
    "\n",
    "SVM_predict = model_SVM.predict(test_set)\n",
    "lin_mse = mean_squared_error(test_set_label , SVM_predict)\n",
    "lin_rmse = np.sqrt(lin_mse)\n",
    "print(\"RMSE = \", lin_rmse)\n",
    "print(\"DATA VALIDATION\"); print(metrics.classification_report(test_set_label, SVM_predict))\n",
    "\n"
   ]
  },
  {
   "cell_type": "markdown",
   "id": "ee83f807",
   "metadata": {},
   "source": [
    "## <font color='limeSMALL'> Balancing and optimizing data\n",
    "\n",
    " </font>"
   ]
  },
  {
   "cell_type": "markdown",
   "id": "9fee49ee",
   "metadata": {},
   "source": [
    "### Removing columns with a lower correlation coefficient"
   ]
  },
  {
   "cell_type": "code",
   "execution_count": 20,
   "id": "bd689ce8",
   "metadata": {},
   "outputs": [],
   "source": [
    "op_train_set = train_set.drop([\"OperatingSystems\",\"Region\",\"Browser\",\"TrafficType\",\"SpecialDay\"], axis=1)\n",
    "op_test_set = test_set.drop([\"OperatingSystems\",\"Region\",\"Browser\",\"TrafficType\",\"SpecialDay\"], axis=1)"
   ]
  },
  {
   "cell_type": "markdown",
   "id": "161a799d",
   "metadata": {},
   "source": [
    "### Review of the best algorithm with optimized data"
   ]
  },
  {
   "cell_type": "code",
   "execution_count": 21,
   "id": "6f807f85",
   "metadata": {},
   "outputs": [
    {
     "name": "stdout",
     "output_type": "stream",
     "text": [
      "RMSE =  0.3057306141601002\n",
      "DATA VALIDATION\n",
      "              precision    recall  f1-score   support\n",
      "\n",
      "           0       0.94      0.96      0.95      4229\n",
      "           1       0.70      0.61      0.65       703\n",
      "\n",
      "    accuracy                           0.91      4932\n",
      "   macro avg       0.82      0.78      0.80      4932\n",
      "weighted avg       0.90      0.91      0.90      4932\n",
      "\n"
     ]
    }
   ],
   "source": [
    "\n",
    "model_RandomForest = RandomForestClassifier()\n",
    "model_RandomForest.fit(op_train_set , train_set_label)\n",
    "\n",
    "Random_Forest_predict = model_RandomForest.predict(op_test_set)\n",
    "lin_mse = mean_squared_error(test_set_label , Random_Forest_predict)\n",
    "lin_rmse = np.sqrt(lin_mse)\n",
    "print(\"RMSE = \", lin_rmse)\n",
    "print(\"DATA VALIDATION\"); print(metrics.classification_report(test_set_label, Random_Forest_predict))\n"
   ]
  },
  {
   "cell_type": "code",
   "execution_count": 22,
   "id": "e60c7d99",
   "metadata": {},
   "outputs": [
    {
     "name": "stdout",
     "output_type": "stream",
     "text": [
      "RMSE =  0.5564267297642225\n",
      "DATA VALIDATION\n",
      "              precision    recall  f1-score   support\n",
      "\n",
      "           0       0.91      0.71      0.80      4229\n",
      "           1       0.24      0.56      0.34       703\n",
      "\n",
      "    accuracy                           0.69      4932\n",
      "   macro avg       0.58      0.64      0.57      4932\n",
      "weighted avg       0.81      0.69      0.73      4932\n",
      "\n"
     ]
    }
   ],
   "source": [
    "from sklearn.tree import DecisionTreeClassifier\n",
    "\n",
    "model_tree = DecisionTreeClassifier()\n",
    "model_tree.fit(op_train_set , train_set_label)\n",
    "\n",
    "tree_predict = model_tree.predict(op_test_set)\n",
    "\n",
    "\n",
    "lin_mse = mean_squared_error(test_set_label , tree_predict)\n",
    "lin_rmse = np.sqrt(lin_mse)\n",
    "print(\"RMSE = \", lin_rmse)\n",
    "print(\"DATA VALIDATION\"); print(metrics.classification_report(test_set_label, tree_predict))\n"
   ]
  },
  {
   "cell_type": "code",
   "execution_count": 23,
   "id": "b90ffbb1",
   "metadata": {},
   "outputs": [
    {
     "name": "stdout",
     "output_type": "stream",
     "text": [
      "RMSE =  0.3215685401808816\n",
      "DATA VALIDATION\n",
      "              precision    recall  f1-score   support\n",
      "\n",
      "           0       0.93      0.95      0.94      4229\n",
      "           1       0.65      0.60      0.62       703\n",
      "\n",
      "    accuracy                           0.90      4932\n",
      "   macro avg       0.79      0.77      0.78      4932\n",
      "weighted avg       0.89      0.90      0.89      4932\n",
      "\n"
     ]
    }
   ],
   "source": [
    "\n",
    "model_MLP = MLPClassifier(max_iter=800)\n",
    "model_MLP.fit(op_train_set , train_set_label)\n",
    "\n",
    "MLP_predict = model_MLP.predict(op_test_set)\n",
    "lin_mse = mean_squared_error(test_set_label , MLP_predict)\n",
    "lin_rmse = np.sqrt(lin_mse)\n",
    "print(\"RMSE = \", lin_rmse)\n",
    "print(\"DATA VALIDATION\"); print(metrics.classification_report(test_set_label, MLP_predict))\n",
    "\n"
   ]
  },
  {
   "cell_type": "code",
   "execution_count": null,
   "id": "b656acfe",
   "metadata": {},
   "outputs": [],
   "source": []
  }
 ],
 "metadata": {
  "kernelspec": {
   "display_name": "Python 3 (ipykernel)",
   "language": "python",
   "name": "python3"
  },
  "language_info": {
   "codemirror_mode": {
    "name": "ipython",
    "version": 3
   },
   "file_extension": ".py",
   "mimetype": "text/x-python",
   "name": "python",
   "nbconvert_exporter": "python",
   "pygments_lexer": "ipython3",
   "version": "3.9.13"
  }
 },
 "nbformat": 4,
 "nbformat_minor": 5
}
